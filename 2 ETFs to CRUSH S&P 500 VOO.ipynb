{
 "cells": [
  {
   "cell_type": "code",
   "execution_count": 49,
   "id": "b961aa5a-6cf9-4ebc-a145-85f55cc61d19",
   "metadata": {},
   "outputs": [],
   "source": [
    "import quantstats as qs\n",
    "import yfinance as yf\n",
    "import pandas as pd\n",
    "qs.extend_pandas()\n",
    "import warnings\n",
    "warnings.filterwarnings(\"ignore\", category=FutureWarning)"
   ]
  },
  {
   "cell_type": "code",
   "execution_count": 51,
   "id": "2ce46663-dc2c-41e4-b14e-7751d14ba961",
   "metadata": {},
   "outputs": [],
   "source": [
    "def manual_make_index(tickers):\n",
    "    data = {}\n",
    "    for ticker, weight in tickers.items():\n",
    "        stock = yf.Ticker(ticker)\n",
    "        history = stock.history(period=\"10Y\")['Close'] # Retrieves the closing prices of the stock over the last 10 years\n",
    "        history = history.apply(pd.to_numeric, errors='coerce').dropna()\n",
    "        data[ticker] = history * weight\n",
    "    \n",
    "    df = pd.DataFrame(data)\n",
    "    return df.sum(axis=1)"
   ]
  },
  {
   "cell_type": "code",
   "execution_count": 53,
   "id": "f0b2e3d5-1448-49ae-bbc4-f68ffd67adeb",
   "metadata": {},
   "outputs": [],
   "source": [
    "# Define a dictionary with tickers and their respective weights\n",
    "tickers = {\n",
    "\n",
    "    'VYM' : 0.5,  # Vanguard High Dividend Yield ETF with 50% weight\n",
    "    'VUG' : 0.5   # Vanguard Growth ETF with 50% weight\n",
    "\n",
    "}\n",
    "\n",
    "# Create a custom index using the defined tickers and their weights\n",
    "vym_vug = manual_make_index(tickers)"
   ]
  },
  {
   "cell_type": "code",
   "execution_count": 55,
   "id": "f6d89661-d90b-4221-9ae2-af00583bca8a",
   "metadata": {},
   "outputs": [],
   "source": [
    "# Ensure that both data have the same datetime format (naive datetime)\n",
    "vym_vug.index = vym_vug.index.tz_localize(None)\n"
   ]
  },
  {
   "cell_type": "code",
   "execution_count": 59,
   "id": "5ceecf6d-9144-443f-9afb-399ee63bc865",
   "metadata": {},
   "outputs": [
    {
     "name": "stderr",
     "output_type": "stream",
     "text": [
      "[*********************100%%**********************]  1 of 1 completed\n"
     ]
    }
   ],
   "source": [
    "qs.reports.html(vym_vug, \"SPY\", title='VYM & VUG VS SPY' , output=\"SPY_VS_VYM_VUG.html\")"
   ]
  },
  {
   "cell_type": "code",
   "execution_count": null,
   "id": "8d104a68-5ebf-433a-a39e-45d9a2f603b9",
   "metadata": {},
   "outputs": [],
   "source": []
  }
 ],
 "metadata": {
  "kernelspec": {
   "display_name": "Python 3 (ipykernel)",
   "language": "python",
   "name": "python3"
  },
  "language_info": {
   "codemirror_mode": {
    "name": "ipython",
    "version": 3
   },
   "file_extension": ".py",
   "mimetype": "text/x-python",
   "name": "python",
   "nbconvert_exporter": "python",
   "pygments_lexer": "ipython3",
   "version": "3.10.14"
  }
 },
 "nbformat": 4,
 "nbformat_minor": 5
}
